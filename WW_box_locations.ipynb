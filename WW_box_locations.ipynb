{
 "cells": [
  {
   "cell_type": "code",
   "execution_count": 33,
   "metadata": {},
   "outputs": [],
   "source": [
    "import folium\n",
    "import pandas as pd\n",
    "import matplotlib.pyplot as plt\n",
    "import osmnx as ox\n",
    "import networkx as nx\n",
    "from io import BytesIO\n",
    "import zipfile\n",
    "import geopandas as gpd\n",
    "from lxml import html\n",
    "from fastkml import kml\n",
    "import fiona\n",
    "\n",
    "\n"
   ]
  },
  {
   "cell_type": "code",
   "execution_count": 10,
   "metadata": {},
   "outputs": [],
   "source": [
    "# Specify the path to the KMZ file\n",
    "kmz_path = r\"C:\\Users\\israe\\Desktop\\Files\\Coding\\Repos\\WW_Project\\WW 2023 locations.xlsx.kmz\"\n",
    "\n",
    "# Open the KMZ file and read the content of the 'doc.kml' file\n",
    "with zipfile.ZipFile(kmz_path, 'r') as kmz:\n",
    "    kml_content = kmz.read('doc.kml')"
   ]
  },
  {
   "cell_type": "code",
   "execution_count": 17,
   "metadata": {},
   "outputs": [
    {
     "name": "stdout",
     "output_type": "stream",
     "text": [
      "                             Name  \\\n",
      "0                         La Mota   \n",
      "1          102nd St Market & Deli   \n",
      "2            GATEWAY LIQUOR STORE   \n",
      "3                Natural Remedies   \n",
      "4                  Nectar - Stark   \n",
      "..                            ...   \n",
      "598              WW-Box (Coquine)   \n",
      "599      WW-Box (Bipartisan Cafe)   \n",
      "600               THE GREEN FRONT   \n",
      "601      WW-Box (Fillmore Coffee)   \n",
      "602  WW-Box (Glisan Street Pizza)   \n",
      "\n",
      "                                           description timestamp begin end  \\\n",
      "0    Address: 4999 NE 99th Ave<br>City, State: Port...       NaT   NaT NaT   \n",
      "1    Address: 4646 NE 102nd Ave<br>City, State: Por...       NaT   NaT NaT   \n",
      "2    Address: 10320 NE HALSEY<br>City, State: Portl...       NaT   NaT NaT   \n",
      "3    Address: 9810 E Burnside St<br>City, State: Po...       NaT   NaT NaT   \n",
      "4    Address: 9127 SE Stark<br>City, State: Portlan...       NaT   NaT NaT   \n",
      "..                                                 ...       ...   ...  ..   \n",
      "598  Address: 6839 SE Belmont St<br>City, State: Po...       NaT   NaT NaT   \n",
      "599  Address: 7901 SE Stark St<br>City, State: Port...       NaT   NaT NaT   \n",
      "600  Address: 6814 NE GLISAN<br>City, State: Portla...       NaT   NaT NaT   \n",
      "601  Address: 7201 NE Glisan St<br>City, State: Por...       NaT   NaT NaT   \n",
      "602  Address: 8001 NE Glisan St<br>City, State: Por...       NaT   NaT NaT   \n",
      "\n",
      "    altitudeMode tessellate extrude  visibility drawOrder  icon  \\\n",
      "0           None       None    None          -1      None  None   \n",
      "1           None       None    None          -1      None  None   \n",
      "2           None       None    None          -1      None  None   \n",
      "3           None       None    None          -1      None  None   \n",
      "4           None       None    None          -1      None  None   \n",
      "..           ...        ...     ...         ...       ...   ...   \n",
      "598         None       None    None          -1      None  None   \n",
      "599         None       None    None          -1      None  None   \n",
      "600         None       None    None          -1      None  None   \n",
      "601         None       None    None          -1      None  None   \n",
      "602         None       None    None          -1      None  None   \n",
      "\n",
      "                Address   City__State geometry  \n",
      "0      4999 NE 99th Ave  Portland, OR     None  \n",
      "1     4646 NE 102nd Ave  Portland, OR     None  \n",
      "2       10320 NE HALSEY  Portland, OR     None  \n",
      "3    9810 E Burnside St  Portland, OR     None  \n",
      "4         9127 SE Stark  Portland, OR     None  \n",
      "..                  ...           ...      ...  \n",
      "598  6839 SE Belmont St  Portland, OR     None  \n",
      "599    7901 SE Stark St  Portland, OR     None  \n",
      "600      6814 NE GLISAN  Portland, OR     None  \n",
      "601   7201 NE Glisan St  Portland, OR     None  \n",
      "602   8001 NE Glisan St  Portland, OR     None  \n",
      "\n",
      "[603 rows x 14 columns]\n"
     ]
    }
   ],
   "source": [
    "fiona.drvsupport.supported_drivers['LIBKML'] = 'rw'\n",
    "\n",
    "gdf_list = []\n",
    "\n",
    "# Read KML content as bytes using BytesIO\n",
    "with BytesIO(kml_content) as kml_bytes:\n",
    "    # Use gpd.read_file to directly read the KML content\n",
    "    gdf = gpd.read_file(kml_bytes, driver='LIBKML')\n",
    "    gdf_list.append(gdf)\n",
    "\n",
    "# Concatenate the list of GeoDataFrames into a single GeoDataFrame\n",
    "final_gdf = pd.concat(gdf_list, ignore_index=True)\n",
    "\n",
    "# Display the resulting GeoDataFrame\n",
    "print(final_gdf)"
   ]
  },
  {
   "cell_type": "code",
   "execution_count": 19,
   "metadata": {},
   "outputs": [
    {
     "name": "stdout",
     "output_type": "stream",
     "text": [
      "<class 'geopandas.geodataframe.GeoDataFrame'>\n",
      "RangeIndex: 603 entries, 0 to 602\n",
      "Data columns (total 14 columns):\n",
      " #   Column        Non-Null Count  Dtype         \n",
      "---  ------        --------------  -----         \n",
      " 0   Name          603 non-null    object        \n",
      " 1   description   603 non-null    object        \n",
      " 2   timestamp     0 non-null      datetime64[ns]\n",
      " 3   begin         0 non-null      datetime64[ns]\n",
      " 4   end           0 non-null      datetime64[ns]\n",
      " 5   altitudeMode  0 non-null      object        \n",
      " 6   tessellate    0 non-null      object        \n",
      " 7   extrude       0 non-null      object        \n",
      " 8   visibility    603 non-null    int64         \n",
      " 9   drawOrder     0 non-null      object        \n",
      " 10  icon          0 non-null      object        \n",
      " 11  Address       603 non-null    object        \n",
      " 12  City__State   603 non-null    object        \n",
      " 13  geometry      0 non-null      geometry      \n",
      "dtypes: datetime64[ns](3), geometry(1), int64(1), object(9)\n",
      "memory usage: 66.1+ KB\n"
     ]
    }
   ],
   "source": [
    "final_gdf.info()"
   ]
  },
  {
   "cell_type": "code",
   "execution_count": 29,
   "metadata": {},
   "outputs": [
    {
     "name": "stdout",
     "output_type": "stream",
     "text": [
      "                             Name             Address\n",
      "0                         La Mota    4999 NE 99th Ave\n",
      "1          102nd St Market & Deli   4646 NE 102nd Ave\n",
      "2            GATEWAY LIQUOR STORE     10320 NE HALSEY\n",
      "3                Natural Remedies  9810 E Burnside St\n",
      "4                  Nectar - Stark       9127 SE Stark\n",
      "..                            ...                 ...\n",
      "598              WW-Box (Coquine)  6839 SE Belmont St\n",
      "599      WW-Box (Bipartisan Cafe)    7901 SE Stark St\n",
      "600               THE GREEN FRONT      6814 NE GLISAN\n",
      "601      WW-Box (Fillmore Coffee)   7201 NE Glisan St\n",
      "602  WW-Box (Glisan Street Pizza)   8001 NE Glisan St\n",
      "\n",
      "[603 rows x 2 columns]\n"
     ]
    }
   ],
   "source": [
    "ww_boxes = final_gdf.loc[:,['Name','Address']].copy()\n",
    "print(ww_boxes)"
   ]
  },
  {
   "cell_type": "code",
   "execution_count": 30,
   "metadata": {},
   "outputs": [
    {
     "name": "stdout",
     "output_type": "stream",
     "text": [
      "                       Name             Address\n",
      "0                   La Mota    4999 NE 99th Ave\n",
      "1    102Nd St Market & Deli   4646 NE 102nd Ave\n",
      "2      Gateway Liquor Store     10320 NE HALSEY\n",
      "3          Natural Remedies  9810 E Burnside St\n",
      "4            Nectar - Stark       9127 SE Stark\n",
      "..                      ...                 ...\n",
      "598                 Coquine  6839 SE Belmont St\n",
      "599         Bipartisan Cafe    7901 SE Stark St\n",
      "600         The Green Front      6814 NE GLISAN\n",
      "601         Fillmore Coffee   7201 NE Glisan St\n",
      "602     Glisan Street Pizza   8001 NE Glisan St\n",
      "\n",
      "[603 rows x 2 columns]\n"
     ]
    }
   ],
   "source": [
    "def clean_name(Name):\n",
    "    # Check if the place name starts with \"WW-Box\"\n",
    "    if Name.startswith(\"WW-Box\"):\n",
    "        # Remove \"WW-Box\" and leading whitespace, then title case the remaining part\n",
    "        return Name.split(\"(\")[-1].strip().title().rstrip(')')\n",
    "    else:\n",
    "        # Title case the entire place name\n",
    "        return Name.title()\n",
    "\n",
    "ww_boxes['Name'] = ww_boxes['Name'].apply(clean_name)\n",
    "\n",
    "print (ww_boxes)\n",
    "\n"
   ]
  },
  {
   "cell_type": "code",
   "execution_count": 39,
   "metadata": {},
   "outputs": [
    {
     "name": "stderr",
     "output_type": "stream",
     "text": [
      "C:\\Users\\israe\\AppData\\Local\\Temp\\ipykernel_3144\\2618427464.py:26: FutureWarning: The geopandas.dataset module is deprecated and will be removed in GeoPandas 1.0. You can get the original 'naturalearth_lowres' data from https://www.naturalearthdata.com/downloads/110m-cultural-vectors/.\n",
      "  oregon = gpd.read_file(gpd.datasets.get_path('naturalearth_lowres'))\n"
     ]
    },
    {
     "ename": "ValueError",
     "evalue": "aspect must be finite and positive ",
     "output_type": "error",
     "traceback": [
      "\u001b[1;31m---------------------------------------------------------------------------\u001b[0m",
      "\u001b[1;31mValueError\u001b[0m                                Traceback (most recent call last)",
      "Cell \u001b[1;32mIn[39], line 29\u001b[0m\n\u001b[0;32m     27\u001b[0m oregon \u001b[38;5;241m=\u001b[39m oregon[oregon[\u001b[38;5;124m'\u001b[39m\u001b[38;5;124mname\u001b[39m\u001b[38;5;124m'\u001b[39m] \u001b[38;5;241m==\u001b[39m \u001b[38;5;124m'\u001b[39m\u001b[38;5;124mUnited States\u001b[39m\u001b[38;5;124m'\u001b[39m]\n\u001b[0;32m     28\u001b[0m oregon_boundary \u001b[38;5;241m=\u001b[39m oregon\u001b[38;5;241m.\u001b[39mgeometry\u001b[38;5;241m.\u001b[39mbounds\n\u001b[1;32m---> 29\u001b[0m ax \u001b[38;5;241m=\u001b[39m \u001b[43moregon\u001b[49m\u001b[38;5;241;43m.\u001b[39;49m\u001b[43mplot\u001b[49m\u001b[43m(\u001b[49m\u001b[43mcolor\u001b[49m\u001b[38;5;241;43m=\u001b[39;49m\u001b[38;5;124;43m'\u001b[39;49m\u001b[38;5;124;43mwhite\u001b[39;49m\u001b[38;5;124;43m'\u001b[39;49m\u001b[43m,\u001b[49m\u001b[43m \u001b[49m\u001b[43medgecolor\u001b[49m\u001b[38;5;241;43m=\u001b[39;49m\u001b[38;5;124;43m'\u001b[39;49m\u001b[38;5;124;43mblack\u001b[39;49m\u001b[38;5;124;43m'\u001b[39;49m\u001b[43m,\u001b[49m\u001b[43m \u001b[49m\u001b[43mfigsize\u001b[49m\u001b[38;5;241;43m=\u001b[39;49m\u001b[43m(\u001b[49m\u001b[38;5;241;43m10\u001b[39;49m\u001b[43m,\u001b[49m\u001b[43m \u001b[49m\u001b[38;5;241;43m10\u001b[39;49m\u001b[43m)\u001b[49m\u001b[43m)\u001b[49m\n\u001b[0;32m     31\u001b[0m gdf_points\u001b[38;5;241m.\u001b[39mplot(ax\u001b[38;5;241m=\u001b[39max, color\u001b[38;5;241m=\u001b[39m\u001b[38;5;124m'\u001b[39m\u001b[38;5;124mred\u001b[39m\u001b[38;5;124m'\u001b[39m, markersize\u001b[38;5;241m=\u001b[39m\u001b[38;5;241m10\u001b[39m, alpha\u001b[38;5;241m=\u001b[39m\u001b[38;5;241m0.5\u001b[39m)\n\u001b[0;32m     34\u001b[0m \u001b[38;5;66;03m# Customize the plot\u001b[39;00m\n",
      "File \u001b[1;32mc:\\Users\\israe\\anaconda3\\Lib\\site-packages\\geopandas\\plotting.py:979\u001b[0m, in \u001b[0;36mGeoplotAccessor.__call__\u001b[1;34m(self, *args, **kwargs)\u001b[0m\n\u001b[0;32m    977\u001b[0m kind \u001b[38;5;241m=\u001b[39m kwargs\u001b[38;5;241m.\u001b[39mpop(\u001b[38;5;124m\"\u001b[39m\u001b[38;5;124mkind\u001b[39m\u001b[38;5;124m\"\u001b[39m, \u001b[38;5;124m\"\u001b[39m\u001b[38;5;124mgeo\u001b[39m\u001b[38;5;124m\"\u001b[39m)\n\u001b[0;32m    978\u001b[0m \u001b[38;5;28;01mif\u001b[39;00m kind \u001b[38;5;241m==\u001b[39m \u001b[38;5;124m\"\u001b[39m\u001b[38;5;124mgeo\u001b[39m\u001b[38;5;124m\"\u001b[39m:\n\u001b[1;32m--> 979\u001b[0m     \u001b[38;5;28;01mreturn\u001b[39;00m \u001b[43mplot_dataframe\u001b[49m\u001b[43m(\u001b[49m\u001b[43mdata\u001b[49m\u001b[43m,\u001b[49m\u001b[43m \u001b[49m\u001b[38;5;241;43m*\u001b[39;49m\u001b[43margs\u001b[49m\u001b[43m,\u001b[49m\u001b[43m \u001b[49m\u001b[38;5;241;43m*\u001b[39;49m\u001b[38;5;241;43m*\u001b[39;49m\u001b[43mkwargs\u001b[49m\u001b[43m)\u001b[49m\n\u001b[0;32m    980\u001b[0m \u001b[38;5;28;01mif\u001b[39;00m kind \u001b[38;5;129;01min\u001b[39;00m \u001b[38;5;28mself\u001b[39m\u001b[38;5;241m.\u001b[39m_pandas_kinds:\n\u001b[0;32m    981\u001b[0m     \u001b[38;5;66;03m# Access pandas plots\u001b[39;00m\n\u001b[0;32m    982\u001b[0m     \u001b[38;5;28;01mreturn\u001b[39;00m PlotAccessor(data)(kind\u001b[38;5;241m=\u001b[39mkind, \u001b[38;5;241m*\u001b[39m\u001b[38;5;241m*\u001b[39mkwargs)\n",
      "File \u001b[1;32mc:\\Users\\israe\\anaconda3\\Lib\\site-packages\\geopandas\\plotting.py:690\u001b[0m, in \u001b[0;36mplot_dataframe\u001b[1;34m(df, column, cmap, color, ax, cax, categorical, legend, scheme, k, vmin, vmax, markersize, figsize, legend_kwds, categories, classification_kwds, missing_kwds, aspect, **style_kwds)\u001b[0m\n\u001b[0;32m    688\u001b[0m     bounds \u001b[38;5;241m=\u001b[39m df\u001b[38;5;241m.\u001b[39mtotal_bounds\n\u001b[0;32m    689\u001b[0m     y_coord \u001b[38;5;241m=\u001b[39m np\u001b[38;5;241m.\u001b[39mmean([bounds[\u001b[38;5;241m1\u001b[39m], bounds[\u001b[38;5;241m3\u001b[39m]])\n\u001b[1;32m--> 690\u001b[0m     \u001b[43max\u001b[49m\u001b[38;5;241;43m.\u001b[39;49m\u001b[43mset_aspect\u001b[49m\u001b[43m(\u001b[49m\u001b[38;5;241;43m1\u001b[39;49m\u001b[43m \u001b[49m\u001b[38;5;241;43m/\u001b[39;49m\u001b[43m \u001b[49m\u001b[43mnp\u001b[49m\u001b[38;5;241;43m.\u001b[39;49m\u001b[43mcos\u001b[49m\u001b[43m(\u001b[49m\u001b[43my_coord\u001b[49m\u001b[43m \u001b[49m\u001b[38;5;241;43m*\u001b[39;49m\u001b[43m \u001b[49m\u001b[43mnp\u001b[49m\u001b[38;5;241;43m.\u001b[39;49m\u001b[43mpi\u001b[49m\u001b[43m \u001b[49m\u001b[38;5;241;43m/\u001b[39;49m\u001b[43m \u001b[49m\u001b[38;5;241;43m180\u001b[39;49m\u001b[43m)\u001b[49m\u001b[43m)\u001b[49m\n\u001b[0;32m    691\u001b[0m     \u001b[38;5;66;03m# formula ported from R package sp\u001b[39;00m\n\u001b[0;32m    692\u001b[0m     \u001b[38;5;66;03m# https://github.com/edzer/sp/blob/master/R/mapasp.R\u001b[39;00m\n\u001b[0;32m    693\u001b[0m \u001b[38;5;28;01melse\u001b[39;00m:\n\u001b[0;32m    694\u001b[0m     ax\u001b[38;5;241m.\u001b[39mset_aspect(\u001b[38;5;124m\"\u001b[39m\u001b[38;5;124mequal\u001b[39m\u001b[38;5;124m\"\u001b[39m)\n",
      "File \u001b[1;32mc:\\Users\\israe\\anaconda3\\Lib\\site-packages\\matplotlib\\axes\\_base.py:1669\u001b[0m, in \u001b[0;36m_AxesBase.set_aspect\u001b[1;34m(self, aspect, adjustable, anchor, share)\u001b[0m\n\u001b[0;32m   1667\u001b[0m     aspect \u001b[38;5;241m=\u001b[39m \u001b[38;5;28mfloat\u001b[39m(aspect)  \u001b[38;5;66;03m# raise ValueError if necessary\u001b[39;00m\n\u001b[0;32m   1668\u001b[0m     \u001b[38;5;28;01mif\u001b[39;00m aspect \u001b[38;5;241m<\u001b[39m\u001b[38;5;241m=\u001b[39m \u001b[38;5;241m0\u001b[39m \u001b[38;5;129;01mor\u001b[39;00m \u001b[38;5;129;01mnot\u001b[39;00m np\u001b[38;5;241m.\u001b[39misfinite(aspect):\n\u001b[1;32m-> 1669\u001b[0m         \u001b[38;5;28;01mraise\u001b[39;00m \u001b[38;5;167;01mValueError\u001b[39;00m(\u001b[38;5;124m\"\u001b[39m\u001b[38;5;124maspect must be finite and positive \u001b[39m\u001b[38;5;124m\"\u001b[39m)\n\u001b[0;32m   1671\u001b[0m \u001b[38;5;28;01mif\u001b[39;00m share:\n\u001b[0;32m   1672\u001b[0m     axes \u001b[38;5;241m=\u001b[39m {sibling \u001b[38;5;28;01mfor\u001b[39;00m name \u001b[38;5;129;01min\u001b[39;00m \u001b[38;5;28mself\u001b[39m\u001b[38;5;241m.\u001b[39m_axis_names\n\u001b[0;32m   1673\u001b[0m             \u001b[38;5;28;01mfor\u001b[39;00m sibling \u001b[38;5;129;01min\u001b[39;00m \u001b[38;5;28mself\u001b[39m\u001b[38;5;241m.\u001b[39m_shared_axes[name]\u001b[38;5;241m.\u001b[39mget_siblings(\u001b[38;5;28mself\u001b[39m)}\n",
      "\u001b[1;31mValueError\u001b[0m: aspect must be finite and positive "
     ]
    },
    {
     "data": {
      "image/png": "[encoded data removed]",
      "text/plain": [
       "<Figure size 1000x1000 with 1 Axes>"
      ]
     },
     "metadata": {},
     "output_type": "display_data"
    }
   ],
   "source": [
    "from geopy.geocoders import Nominatim\n",
    "\n",
    "geolocator = Nominatim(user_agent=\"geo_plotter\", timeout=10)\n",
    "\n",
    "# Function to get latitude and longitude from an address\n",
    "def get_lat_lon(address):\n",
    "    location = geolocator.geocode(address)\n",
    "    if location is not None:\n",
    "        return location.latitude, location.longitude\n",
    "    else:\n",
    "        return None, None\n",
    "\n",
    "# Apply the function to the 'Address' column to get latitudes and longitudes\n",
    "ww_boxes['latitude'], ww_boxes['longitude'] = zip(*ww_boxes['Address'].apply(get_lat_lon))\n",
    "\n",
    "# Drop rows with missing latitude or longitude values\n",
    "ww_boxes = ww_boxes.dropna(subset=['latitude', 'longitude'])\n",
    "\n",
    "# Create a GeoDataFrame with the points\n",
    "gdf_points = gpd.GeoDataFrame(ww_boxes, geometry=gpd.points_from_xy(ww_boxes.longitude, ww_boxes.latitude))\n",
    "\n",
    "# Set the coordinate reference system (CRS) to WGS 84 (EPSG:4326)\n",
    "gdf_points.crs = \"EPSG:4326\"\n",
    "\n",
    "# Plot the points on the map\n",
    "oregon = gpd.read_file(gpd.datasets.get_path('naturalearth_lowres'))\n",
    "oregon = oregon[oregon['name'] == 'United States']\n",
    "oregon_boundary = oregon.geometry.bounds\n",
    "ax = oregon.plot(color='white', edgecolor='black', figsize=(10, 10))\n",
    "\n",
    "gdf_points.plot(ax=ax, color='red', markersize=10, alpha=0.5)\n",
    "\n",
    "\n",
    "# Customize the plot\n",
    "plt.title('Map of Portland, OR with Addresses')\n",
    "plt.xlabel('Longitude')\n",
    "plt.ylabel('Latitude')\n",
    "plt.grid(True)\n",
    "plt.show()"
   ]
  }
 ],
 "metadata": {
  "kernelspec": {
   "display_name": "base",
   "language": "python",
   "name": "python3"
  },
  "language_info": {
   "codemirror_mode": {
    "name": "ipython",
    "version": 3
   },
   "file_extension": ".py",
   "mimetype": "text/x-python",
   "name": "python",
   "nbconvert_exporter": "python",
   "pygments_lexer": "ipython3",
   "version": "3.11.5"
  }
 },
 "nbformat": 4,
 "nbformat_minor": 2
}
